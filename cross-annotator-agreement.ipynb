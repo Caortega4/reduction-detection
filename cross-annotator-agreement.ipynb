{
 "cells": [
  {
   "cell_type": "code",
   "execution_count": 27,
   "metadata": {},
   "outputs": [],
   "source": [
    "# import libraies to hanndle .eaf files and calculate agreement\n",
    "import os\n",
    "\n",
    "import pandas as pd\n",
    "from pympi.Elan import Eaf\n",
    "import plotly.express as px\n",
    "import plotly.graph_objects as go\n",
    "from sklearn.metrics import confusion_matrix\n",
    "from sklearn.metrics import cohen_kappa_score"
   ]
  },
  {
   "cell_type": "code",
   "execution_count": 2,
   "metadata": {},
   "outputs": [],
   "source": [
    "# Function that calculates the agreement between two annotators\n",
    "def calculate_agreement(annotator1, annotator2):\n",
    "    # Initialize variables\n",
    "    total = 0\n",
    "    agreement = 0\n",
    "    # Iterate through all the tiers\n",
    "    for tier in annotator1.get_tier_names():\n",
    "        # Get the annotations for each tier\n",
    "        annotations1 = annotator1.get_annotation_data_for_tier(tier)\n",
    "        annotations2 = annotator2.get_annotation_data_for_tier(tier)\n",
    "        # Iterate through the tier with less annotations\n",
    "        \n",
    "\n",
    "    # Return the agreement\n",
    "    return agreement / total"
   ]
  },
  {
   "cell_type": "code",
   "execution_count": 3,
   "metadata": {},
   "outputs": [
    {
     "name": "stdout",
     "output_type": "stream",
     "text": [
      "File ids in C:\\Research\\Cross-annotator-agreement: ['EN_043', 'ES_028']\n"
     ]
    }
   ],
   "source": [
    "# Get the list of files in the directory\n",
    "dir = \"C:\\Research\\Cross-annotator-agreement\"\n",
    "files = os.listdir(dir)\n",
    "\n",
    "# Initialize an empty list to store the file IDs\n",
    "file_ids = []\n",
    "\n",
    "# Iterate through the files\n",
    "for file in files:\n",
    "    # Check if the file name ends with '-reduction.eaf'\n",
    "    if file.endswith('-reduction.eaf'):\n",
    "        # Extract the file ID from the file name\n",
    "        file_id = file[:-14]\n",
    "        # Add the file ID to the list\n",
    "        file_ids.append(file_id)\n",
    "\n",
    "# Print the list of file IDs\n",
    "print(\"File ids in {dir}: {file_ids}\".format(dir=dir, file_ids=file_ids))"
   ]
  },
  {
   "cell_type": "code",
   "execution_count": 4,
   "metadata": {},
   "outputs": [
    {
     "name": "stdout",
     "output_type": "stream",
     "text": [
      "Tiers are the same for file_id EN_043\n",
      "['EN_043_2946', '0', '0', 1]\n",
      "['EN_043_4486', '3', '3', 1]\n",
      "['EN_043_4749', '0', '2', 0]\n",
      "['EN_043_4860', '1', '2', 0]\n",
      "['EN_043_5026', '0', '0', 1]\n",
      "['EN_043_5243', '1', '1', 1]\n",
      "['EN_043_15453', '3', '2', 0]\n",
      "['EN_043_15659', '1', '1', 1]\n",
      "['EN_043_15823', '0', '0', 1]\n",
      "['EN_043_18513', '3', '1', 0]\n",
      "['EN_043_18826', '0', '3', 0]\n",
      "['EN_043_19003', '0', '2', 0]\n",
      "['EN_043_19206', '0', '2', 0]\n",
      "['EN_043_19393', '0', '0', 1]\n",
      "['EN_043_19623', '1', '2', 0]\n",
      "['EN_043_32706', '1', '2', 0]\n",
      "['EN_043_32901', '1', ' 2', 0]\n",
      "['EN_043_33135', '0', '2', 0]\n",
      "['EN_043_35183', '2', '1', 0]\n",
      "['EN_043_35497', '2', '1', 0]\n",
      "['EN_043_35781', '3', '3', 1]\n",
      "['EN_043_37251', '1', '1', 1]\n",
      "['EN_043_39528', '0', '0', 1]\n",
      "['EN_043_44269', '2', '2', 1]\n",
      "['EN_043_44445', '2', '2', 1]\n",
      "['EN_043_45460', '1', '1', 1]\n",
      "['EN_043_46236', '1', '2', 0]\n",
      "['EN_043_46512', '0', '0', 1]\n",
      "['EN_043_46908', '1', '2', 0]\n",
      "['EN_043_47163', '2', '2', 1]\n",
      "['EN_043_47279', '0', '0', 1]\n",
      "['EN_043_48377', '3', '2', 0]\n",
      "['EN_043_48687', '1', '2', 0]\n",
      "['EN_043_48936', '1', '1', 1]\n",
      "['EN_043_49152', '2', '1', 0]\n",
      "['EN_043_49398', '1', '0', 0]\n",
      "['EN_043_49902', '1', '2', 0]\n",
      "['EN_043_50225', '2', '3', 0]\n",
      "['EN_043_52126', '2', '1', 0]\n",
      "['EN_043_52412', '2', '1', 0]\n",
      "['EN_043_52641', '1', '2', 0]\n",
      "['EN_043_52902', '1', '0', 0]\n",
      "['EN_043_53067', '1', '1', 1]\n",
      "['EN_043_53262', '2', '2', 1]\n",
      "['EN_043_60023', '0', '0', 1]\n",
      "['EN_043_63818', '2', '2', 1]\n",
      "['EN_043_64734', '2', '2', 1]\n",
      "['EN_043_64970', '2', '1', 0]\n",
      "['EN_043_65305', '0', '0', 1]\n",
      "['EN_043_65462', '2', '1', 0]\n",
      "['EN_043_65780', '1', '1', 1]\n",
      "['EN_043_67218', '1', '1', 1]\n",
      "['EN_043_67421', '2', '2', 1]\n",
      "['EN_043_68119', '3', '2', 0]\n",
      "['EN_043_68321', '3', '3', 1]\n",
      "['EN_043_68437', '2', '1', 0]\n",
      "['EN_043_68822', '0', '1', 0]\n",
      "['EN_043_72590', '0', '2', 0]\n",
      "['EN_043_80442', '3', '3', 1]\n",
      "['EN_043_80915', '2', '1', 0]\n",
      "['EN_043_81312', '3', '2', 0]\n",
      "['EN_043_82161', '0', '3', 0]\n",
      "['EN_043_82302', '2', '2', 1]\n",
      "['EN_043_82593', '0', '0', 1]\n",
      "['EN_043_84061', '0', '1', 0]\n",
      "['EN_043_84376', '2', '1', 0]\n",
      "['EN_043_84585', '1', '1', 1]\n",
      "['EN_043_84947', '0', '0', 1]\n",
      "['EN_043_85252', '1', '1', 1]\n",
      "['EN_043_85483', '1', '1', 1]\n",
      "['EN_043_85674', '0', '0', 1]\n",
      "['EN_043_86361', '1', '1', 1]\n",
      "['EN_043_86636', '2', '2', 1]\n",
      "['EN_043_86802', '0', '0', 1]\n",
      "['EN_043_93145', '1', '0', 0]\n",
      "['EN_043_100181', '0', '0', 1]\n",
      "['EN_043_101471', '3', '2', 0]\n",
      "['EN_043_101715', '1', '0', 0]\n",
      "['EN_043_101947', '0', '1', 0]\n",
      "['EN_043_102153', '0', '0', 1]\n",
      "Number of annotations are the same for Reduction Left in EN_043. Annotations in original: 80. Annotations in cross_annotator: 80.\n",
      "['EN_043_690', '0', '0', 1]\n",
      "['EN_043_880', '2', '2', 1]\n",
      "['EN_043_1493', '0', '1', 0]\n",
      "['EN_043_1830', '0', '1', 0]\n",
      "['EN_043_2160', '0', '1', 0]\n",
      "['EN_043_2496', '2', '3', 0]\n",
      "['EN_043_3550', '0', '1', 0]\n",
      "['EN_043_3740', '3', '1', 0]\n",
      "['EN_043_6226', '1', '1', 1]\n",
      "['EN_043_6490', '2', '2', 1]\n",
      "['EN_043_6799', '0', '1', 0]\n",
      "['EN_043_7559', '2', '0', 0]\n",
      "['EN_043_8013', '0', '0', 1]\n",
      "['EN_043_8176', '1', '2', 0]\n",
      "['EN_043_8273', '0', ' 2', 0]\n",
      "['EN_043_8440', '0', '0', 1]\n",
      "['EN_043_9013', '0', '0', 1]\n",
      "['EN_043_10222', '2', '3', 0]\n",
      "['EN_043_10436', '0', '0', 1]\n",
      "['EN_043_10816', '0', '1', 0]\n",
      "['EN_043_11279', '2', '2', 1]\n",
      "['EN_043_11543', '0', '0', 1]\n",
      "['EN_043_11783', '0', '0', 1]\n",
      "['EN_043_12086', '1', '1', 1]\n",
      "['EN_043_12289', '0', '2', 0]\n",
      "['EN_043_16639', '0', '0', 1]\n",
      "['EN_043_21072', '1', '2', 0]\n",
      "['EN_043_22002', '1', '2', 0]\n",
      "['EN_043_22210', '1', '2', 0]\n",
      "['EN_043_22326', '1', '2', 0]\n",
      "['EN_043_22549', '0', '0', 1]\n",
      "['EN_043_22706', '0', '1', 0]\n",
      "['EN_043_23013', '2', '3', 0]\n",
      "['EN_043_23186', '0', '1', 0]\n",
      "['EN_043_23520', '2', '2', 1]\n",
      "['EN_043_23760', '1', '3', 0]\n",
      "['EN_043_23906', '0', '0', 1]\n",
      "['EN_043_24289', '1', '0', 0]\n",
      "['EN_043_25579', '0', '0', 1]\n",
      "['EN_043_26399', '0', '0', 1]\n",
      "['EN_043_26739', '0', '0', 1]\n",
      "['EN_043_26946', '0', '0', 1]\n",
      "['EN_043_27306', '1', '0', 0]\n",
      "['EN_043_27586', '1', '2', 0]\n",
      "['EN_043_27746', '0', '0', 1]\n",
      "['EN_043_27989', '1', '1', 1]\n",
      "['EN_043_28275', '1', '2', 0]\n",
      "['EN_043_28569', '0', '1', 0]\n",
      "['EN_043_28752', '0', '0', 1]\n",
      "['EN_043_30003', '1', '2', 0]\n",
      "['EN_043_30210', '1', '2', 0]\n",
      "['EN_043_30456', '1', '2', 0]\n",
      "['EN_043_30550', '1', '1', 1]\n",
      "['EN_043_30788', '1', '0', 0]\n",
      "['EN_043_31031', '1', '1', 1]\n",
      "['EN_043_31269', '2', '0', 0]\n",
      "['EN_043_31608', '0', '0', 1]\n",
      "['EN_043_31896', '0 ', '1', 0]\n",
      "['EN_043_34697', '1', '0', 0]\n",
      "['EN_043_36505', '1', '1', 1]\n",
      "['EN_043_37251', '1', '1', 1]\n",
      "['EN_043_38178', '1', '1', 1]\n",
      "['EN_043_38265', '2', '1', 0]\n",
      "['EN_043_38380', '0', '0', 1]\n",
      "['EN_043_38587', '3', '2', 0]\n",
      "['EN_043_38793', '0', '1', 0]\n",
      "['EN_043_40797', '2', '2', 1]\n",
      "['EN_043_41045', '1', '1', 1]\n",
      "['EN_043_41335', '0', '1', 0]\n",
      "['EN_043_41680', '0', '0', 1]\n",
      "['EN_043_42021', '0', '0', 1]\n",
      "['EN_043_42399', '1', '2', 0]\n",
      "['EN_043_49983', '2', '2', 1]\n",
      "['EN_043_55309', '2', '2', 1]\n",
      "['EN_043_55534', '0', '0', 1]\n",
      "['EN_043_56041', '2', '2', 1]\n",
      "['EN_043_57823', '1', '3', 0]\n",
      "['EN_043_57945', '1', '0', 0]\n",
      "['EN_043_58296', '1', '1', 1]\n",
      "['EN_043_59139', '1', '0', 0]\n",
      "['EN_043_59453', '0', '0', 1]\n",
      "['EN_043_61515', '3', '2', 0]\n",
      "['EN_043_61770', '3', '1', 0]\n",
      "['EN_043_69971', '1', '2', 0]\n",
      "['EN_043_70247', '0', '0', 1]\n",
      "['EN_043_71031', '2', '0', 0]\n",
      "['EN_043_71476', '0', '2', 0]\n",
      "['EN_043_71796', '1', '3', 0]\n",
      "['EN_043_72368', '2', '0', 0]\n",
      "['EN_043_73541', '2', '2', 1]\n",
      "['EN_043_73743', '1', '1', 1]\n",
      "['EN_043_73838', '0', '1', 0]\n",
      "['EN_043_75754', '1', '3', 0]\n",
      "['EN_043_75989', '1', '2', 0]\n",
      "['EN_043_76161', '0', '2', 0]\n",
      "['EN_043_76371', '0', '1', 0]\n",
      "['EN_043_76639', '0', '0', 1]\n",
      "['EN_043_78277', '1', '1', 1]\n",
      "['EN_043_78557', '0', '0', 1]\n",
      "['EN_043_87778', '1', '0', 0]\n",
      "['EN_043_89351', '1', '2', 0]\n",
      "['EN_043_89928', '2', '1', 0]\n",
      "['EN_043_90297', '0', '0', 1]\n",
      "['EN_043_90476', '2', '2', 1]\n",
      "['EN_043_90586', '0', '1', 0]\n",
      "['EN_043_90799', '3', '3', 1]\n",
      "['EN_043_90868', '0', '1', 0]\n",
      "['EN_043_91290', '2', '2', 1]\n",
      "['EN_043_91675', '1', '3', 0]\n",
      "['EN_043_91744', '0', '1', 0]\n",
      "['EN_043_93961', '1', '0', 0]\n",
      "['EN_043_95999', '2', '2', 1]\n",
      "['EN_043_96976', '2', '2', 1]\n",
      "['EN_043_97355', '0', '0', 1]\n",
      "['EN_043_97640', '1', '3', 0]\n",
      "['EN_043_97794', '0', '1', 0]\n",
      "['EN_043_98347', '1', '1', 1]\n",
      "['EN_043_98463', '2', '3', 0]\n",
      "['EN_043_98609', '0', '1', 0]\n",
      "['EN_043_98879', '1', '1', 1]\n",
      "['EN_043_104042', '2', '3', 0]\n",
      "['EN_043_104181', '0', '2', 0]\n",
      "['EN_043_104398', '0', '1', 0]\n",
      "['EN_043_104575', '1', '1', 1]\n",
      "['EN_043_104653', '0', '2', 0]\n",
      "['EN_043_106488', '2', '3', 0]\n",
      "['EN_043_106605', '0', '3', 0]\n",
      "['EN_043_106773', '1', '2', 0]\n",
      "['EN_043_106928', '0', '1', 0]\n",
      "['EN_043_107405', '1', '1', 1]\n",
      "['EN_043_108033', '0', '0', 1]\n",
      "['EN_043_108581', '0', '0', 1]\n",
      "['EN_043_109241', '0', '0', 1]\n",
      "['EN_043_109582', '0', '1', 0]\n",
      "['EN_043_110444', '', '1', 0]\n",
      "['EN_043_110761', '0', '1', 0]\n",
      "['EN_043_111409', '1', '2', 0]\n",
      "['EN_043_111599', '0', '1', 0]\n",
      "['EN_043_111798', '0', '0', 1]\n",
      "['EN_043_112712', '0', '1', 0]\n",
      "['EN_043_113206', '1', '2', 0]\n",
      "['EN_043_113399', '1', '1', 1]\n",
      "['EN_043_113635', '0', '0', 1]\n",
      "['EN_043_114243', '0', '1', 0]\n",
      "['EN_043_115097', '2', '2', 1]\n",
      "['EN_043_115248', '0', '1', 0]\n",
      "['EN_043_115677', '0', '1', 0]\n",
      "['EN_043_116272', '0', '0', 1]\n",
      "['EN_043_116641', '0', '1', 0]\n",
      "['EN_043_117070', '1', '2', 0]\n",
      "['EN_043_117326', '0', '1', 0]\n",
      "['EN_043_117533', '1', '2', 0]\n",
      "['EN_043_117684', '0', '2', 0]\n",
      "['EN_043_118184', '1', '0', 0]\n",
      "['EN_043_118641', '3', '2', 0]\n",
      "['EN_043_118767', '1', '3', 0]\n",
      "['EN_043_119746', '0', '1', 0]\n",
      "['EN_043_120020', '1', ' 2', 0]\n",
      "Number of annotations are the same for Reduction Right in EN_043. Annotations in original: 158. Annotations in cross_annotator: 158.\n",
      "Tiers are the same for file_id ES_028\n",
      "['ES_028_10110', '1', '1', 1]\n",
      "['ES_028_13290', '0', '0', 1]\n",
      "['ES_028_14610', '0', '0', 1]\n",
      "['ES_028_17830', '1', '0', 0]\n",
      "['ES_028_18530', '0', '1', 0]\n",
      "['ES_028_21060', '0', '0', 1]\n",
      "['ES_028_21850', '0', '0', 1]\n",
      "['ES_028_22800', '1', '2', 0]\n",
      "['ES_028_23790', '3', '2', 0]\n",
      "['ES_028_24326', '0', '3', 0]\n",
      "['ES_028_24706', '0', '1', 0]\n",
      "['ES_028_25495', '0', '2', 0]\n",
      "['ES_028_26081', '0', '2', 0]\n",
      "['ES_028_26444', '1', '1', 1]\n",
      "['ES_028_27037', '1', '2', 0]\n",
      "['ES_028_27485', '1', '1', 1]\n",
      "['ES_028_27771', '0', '1', 0]\n",
      "['ES_028_29226', '1', '1', 1]\n",
      "['ES_028_31275', '2', '1', 0]\n",
      "['ES_028_31713', '0', '2', 0]\n",
      "['ES_028_32299', '2', '1', 0]\n",
      "['ES_028_32764', '2', '0', 0]\n",
      "['ES_028_33772', '2', '2', 1]\n",
      "['ES_028_34189', '1', '3', 0]\n",
      "['ES_028_34364', '2', '1', 0]\n",
      "['ES_028_35210', '0', '1', 0]\n",
      "['ES_028_35947', '1', '3', 0]\n",
      "['ES_028_36333', '2', '2', 1]\n",
      "['ES_028_37213', '1', '2', 0]\n",
      "['ES_028_38413', '', '0', 0]\n",
      "['ES_028_39558', '1', '1', 1]\n",
      "['ES_028_40033', '0', '0', 1]\n",
      "['ES_028_40803', '0', '0', 1]\n",
      "['ES_028_41740', '0', '0', 1]\n",
      "['ES_028_42113', '1', '1', 1]\n",
      "['ES_028_42989', '1', '0', 0]\n",
      "['ES_028_44754', '2', '2', 1]\n",
      "['ES_028_45054', '2', '2', 1]\n",
      "['ES_028_45761', '', '0', 0]\n",
      "['ES_028_46651', '2', '0', 0]\n",
      "['ES_028_47510', '0', '0', 1]\n",
      "['ES_028_48219', '2', '2', 1]\n",
      "['ES_028_48747', '0', '0', 1]\n",
      "['ES_028_53278', '0', '1', 0]\n",
      "['ES_028_65147', '2', '2', 1]\n",
      "['ES_028_65506', '1', '1', 1]\n",
      "['ES_028_66065', '1', '1', 1]\n",
      "['ES_028_66799', '0', '0', 1]\n",
      "['ES_028_72864', '1', '1', 1]\n",
      "['ES_028_87209', '1', '1', 1]\n",
      "['ES_028_88113', '1', '0', 0]\n",
      "['ES_028_97461', '0', '0', 1]\n",
      "['ES_028_107620', '0', '1', 0]\n",
      "['ES_028_109171', '0', '0', 1]\n",
      "['ES_028_110778', '0', '0', 1]\n",
      "['ES_028_112058', '1', '0', 0]\n",
      "['ES_028_112413', '2', '2', 1]\n",
      "Number of annotations are the same for ReductionLeft in ES_028. Annotations in original: 57. Annotations in cross_annotator: 57.\n",
      "['ES_028_4010', '1', '1', 1]\n",
      "['ES_028_5330', '0', '2', 0]\n",
      "['ES_028_6310', '1', '3', 0]\n",
      "['ES_028_8210', '1', '2', 0]\n",
      "['ES_028_51358', '0', '1', 0]\n",
      "['ES_028_52051', '0', '0', 1]\n",
      "['ES_028_54020', '0', '1', 0]\n",
      "['ES_028_55075', '2', '3', 0]\n",
      "['ES_028_55358', '1', '2', 0]\n",
      "['ES_028_56233', '0', '0', 1]\n",
      "['ES_028_58144', '2', '1', 0]\n",
      "['ES_028_58703', '2', '2', 1]\n",
      "['ES_028_59226', '0', '1', 0]\n",
      "['ES_028_60416', '0', '0', 1]\n",
      "['ES_028_62244', '2', '1', 0]\n",
      "['ES_028_62693', '1', '', 0]\n",
      "['ES_028_62775', '2', ' 1', 0]\n",
      "['ES_028_78288', '1', '1', 1]\n",
      "['ES_028_79247', '1', ' 2', 0]\n",
      "['ES_028_79682', '0', '2', 0]\n",
      "['ES_028_83557', '2', '1', 0]\n",
      "['ES_028_83986', '0', '0', 1]\n",
      "['ES_028_84513', '0', '1', 0]\n",
      "['ES_028_85075', '1', '2', 0]\n",
      "['ES_028_89806', '1', '0', 0]\n",
      "['ES_028_90392', '0', '0', 1]\n",
      "['ES_028_91572', '1', '0', 0]\n",
      "['ES_028_92337', '1', '1', 1]\n",
      "['ES_028_93109', '0', '0', 1]\n",
      "['ES_028_94740', '2', '2', 1]\n",
      "['ES_028_95416', '1', '1', 1]\n",
      "['ES_028_95858', '1', '1', 1]\n",
      "['ES_028_100364', '0', '0', 1]\n",
      "['ES_028_101378', '0', '0', 1]\n",
      "['ES_028_102068', '1', '2', 0]\n",
      "['ES_028_102713', '1', '0', 0]\n",
      "['ES_028_103312', '0', '2', 0]\n",
      "['ES_028_103899', '2', '2', 1]\n",
      "['ES_028_104554', '0', '0', 1]\n",
      "['ES_028_105675', '1', '2', 0]\n",
      "['ES_028_114996', '2', '2', 1]\n",
      "['ES_028_115847', '1', '0', 0]\n",
      "['ES_028_117206', '2', '1', 0]\n",
      "['ES_028_117764', '2', '2', 1]\n",
      "['ES_028_118412', '2', '2', 1]\n",
      "['ES_028_119382', '2', '2', 1]\n",
      "['ES_028_120057', '1', '0', 0]\n",
      "Number of annotations are the same for ReductionRight in ES_028. Annotations in original: 47. Annotations in cross_annotator: 47.\n"
     ]
    }
   ],
   "source": [
    "# Empty dataframe with columns for annotation ID ,original annotator, cross-annotator, and agreement\n",
    "df = pd.DataFrame(columns=['annotation_id', 'original_annotator', 'cross_annotator', 'agreement'])\n",
    "\n",
    "# Iterate through the file IDs\n",
    "for file_id in file_ids:\n",
    "    # Create an eaf object for the files\n",
    "    eaf_original = Eaf(dir + \"\\\\\" + file_id + \"-reduction.eaf\")\n",
    "    eaf_cross_annotator = Eaf(dir + \"\\\\\" + file_id + \"-reduction-Divette.eaf\")\n",
    "\n",
    "    # Get the tiers in the original file\n",
    "    tiers_original = eaf_original.get_tier_names()\n",
    "    # Get the tiers in the cross-annotator file\n",
    "    tiers_cross_annotator = eaf_cross_annotator.get_tier_names()\n",
    "\n",
    "    # Check if the tiers are the same\n",
    "    if tiers_original == tiers_cross_annotator:\n",
    "        print(\"Tiers are the same for file_id {file_id}\".format(file_id=file_id))\n",
    "    else:\n",
    "        print(\"Tiers are different in {file_id}\".format(file_id=file_id))\n",
    "    \n",
    "    # Iterate through the tiers\n",
    "    for tier in tiers_original:\n",
    "        # Get the annotations for each tier\n",
    "        annotations_original = eaf_original.get_annotation_data_for_tier(tier)\n",
    "        annotations_cross_annotator = eaf_cross_annotator.get_annotation_data_for_tier(tier)\n",
    "        # Iterate through the tiers\n",
    "        if len(annotations_original) == len(annotations_cross_annotator):\n",
    "            for i in range(len(annotations_original)):\n",
    "                # List with annotation ID, original annotator, cross-annotator, and agreement\n",
    "                annotation = []\n",
    "                # print(annotations_original[i])\n",
    "                # Add the annotation ID to the list, which is the file_id and the start time\n",
    "                annotation.append(file_id + \"_\" + str(annotations_original[i][0]))\n",
    "                # Add the original annotator to the list\n",
    "                annotation.append(annotations_original[i][2])\n",
    "                # Add the cross annotator to the list\n",
    "                annotation.append(annotations_cross_annotator[i][2])\n",
    "                # Add the agreement to the list\n",
    "                if annotations_original[i][2] == annotations_cross_annotator[i][2]:\n",
    "                    annotation.append(1)\n",
    "                else:\n",
    "                    annotation.append(0)\n",
    "                # Add the list to the dataframe\n",
    "                print(annotation)\n",
    "                df.loc[len(df)] = annotation\n",
    "\n",
    "        # Check if the number of annotations is the same\n",
    "        num_annotations_original = len(annotations_original)\n",
    "        num_annotations_cross_annotator = len(annotations_cross_annotator)\n",
    "        if num_annotations_original == num_annotations_cross_annotator:\n",
    "            print(\"Number of annotations are the same for {tier} in {file_id}. Annotations in original: {num_original}. Annotations in cross_annotator: {num_cross}.\".format(tier=tier, file_id=file_id, num_original=num_annotations_original, num_cross=num_annotations_cross_annotator))\n",
    "        else:\n",
    "            print(\"Number of annotations are different for {tier} in {file_id}. Annotations in original: {num_original}. Annotations in cross_annotator: {num_cross}.\".format(tier=tier, file_id=file_id, num_original=num_annotations_original, num_cross=num_annotations_cross_annotator))\n",
    " "
   ]
  },
  {
   "cell_type": "code",
   "execution_count": 5,
   "metadata": {},
   "outputs": [
    {
     "data": {
      "text/html": [
       "<div>\n",
       "<style scoped>\n",
       "    .dataframe tbody tr th:only-of-type {\n",
       "        vertical-align: middle;\n",
       "    }\n",
       "\n",
       "    .dataframe tbody tr th {\n",
       "        vertical-align: top;\n",
       "    }\n",
       "\n",
       "    .dataframe thead th {\n",
       "        text-align: right;\n",
       "    }\n",
       "</style>\n",
       "<table border=\"1\" class=\"dataframe\">\n",
       "  <thead>\n",
       "    <tr style=\"text-align: right;\">\n",
       "      <th></th>\n",
       "      <th>annotation_id</th>\n",
       "      <th>original_annotator</th>\n",
       "      <th>cross_annotator</th>\n",
       "      <th>agreement</th>\n",
       "    </tr>\n",
       "  </thead>\n",
       "  <tbody>\n",
       "    <tr>\n",
       "      <th>0</th>\n",
       "      <td>EN_043_2946</td>\n",
       "      <td>0</td>\n",
       "      <td>0</td>\n",
       "      <td>1</td>\n",
       "    </tr>\n",
       "    <tr>\n",
       "      <th>1</th>\n",
       "      <td>EN_043_4486</td>\n",
       "      <td>3</td>\n",
       "      <td>3</td>\n",
       "      <td>1</td>\n",
       "    </tr>\n",
       "    <tr>\n",
       "      <th>2</th>\n",
       "      <td>EN_043_4749</td>\n",
       "      <td>0</td>\n",
       "      <td>2</td>\n",
       "      <td>0</td>\n",
       "    </tr>\n",
       "    <tr>\n",
       "      <th>3</th>\n",
       "      <td>EN_043_4860</td>\n",
       "      <td>1</td>\n",
       "      <td>2</td>\n",
       "      <td>0</td>\n",
       "    </tr>\n",
       "    <tr>\n",
       "      <th>4</th>\n",
       "      <td>EN_043_5026</td>\n",
       "      <td>0</td>\n",
       "      <td>0</td>\n",
       "      <td>1</td>\n",
       "    </tr>\n",
       "    <tr>\n",
       "      <th>...</th>\n",
       "      <td>...</td>\n",
       "      <td>...</td>\n",
       "      <td>...</td>\n",
       "      <td>...</td>\n",
       "    </tr>\n",
       "    <tr>\n",
       "      <th>337</th>\n",
       "      <td>ES_028_117206</td>\n",
       "      <td>2</td>\n",
       "      <td>1</td>\n",
       "      <td>0</td>\n",
       "    </tr>\n",
       "    <tr>\n",
       "      <th>338</th>\n",
       "      <td>ES_028_117764</td>\n",
       "      <td>2</td>\n",
       "      <td>2</td>\n",
       "      <td>1</td>\n",
       "    </tr>\n",
       "    <tr>\n",
       "      <th>339</th>\n",
       "      <td>ES_028_118412</td>\n",
       "      <td>2</td>\n",
       "      <td>2</td>\n",
       "      <td>1</td>\n",
       "    </tr>\n",
       "    <tr>\n",
       "      <th>340</th>\n",
       "      <td>ES_028_119382</td>\n",
       "      <td>2</td>\n",
       "      <td>2</td>\n",
       "      <td>1</td>\n",
       "    </tr>\n",
       "    <tr>\n",
       "      <th>341</th>\n",
       "      <td>ES_028_120057</td>\n",
       "      <td>1</td>\n",
       "      <td>0</td>\n",
       "      <td>0</td>\n",
       "    </tr>\n",
       "  </tbody>\n",
       "</table>\n",
       "<p>342 rows × 4 columns</p>\n",
       "</div>"
      ],
      "text/plain": [
       "     annotation_id original_annotator cross_annotator  agreement\n",
       "0      EN_043_2946                  0               0          1\n",
       "1      EN_043_4486                  3               3          1\n",
       "2      EN_043_4749                  0               2          0\n",
       "3      EN_043_4860                  1               2          0\n",
       "4      EN_043_5026                  0               0          1\n",
       "..             ...                ...             ...        ...\n",
       "337  ES_028_117206                  2               1          0\n",
       "338  ES_028_117764                  2               2          1\n",
       "339  ES_028_118412                  2               2          1\n",
       "340  ES_028_119382                  2               2          1\n",
       "341  ES_028_120057                  1               0          0\n",
       "\n",
       "[342 rows x 4 columns]"
      ]
     },
     "execution_count": 5,
     "metadata": {},
     "output_type": "execute_result"
    }
   ],
   "source": [
    "df"
   ]
  },
  {
   "cell_type": "code",
   "execution_count": 24,
   "metadata": {},
   "outputs": [
    {
     "name": "stdout",
     "output_type": "stream",
     "text": [
      "Agreement: 0.46987951807228917\n"
     ]
    }
   ],
   "source": [
    "# Delete rows where the original annotator or the cross annotator is notin the list of values to include\n",
    "valid = ['0','1','2','3']\n",
    "\n",
    "df = df[df['original_annotator'].isin(valid)]\n",
    "df = df[df['cross_annotator'].isin(valid)]\n",
    "\n",
    "# Calculate the agreement\n",
    "agreement = df['agreement'].sum() / len(df)\n",
    "print(\"Agreement: {agreement}\".format(agreement=agreement))"
   ]
  },
  {
   "cell_type": "code",
   "execution_count": 26,
   "metadata": {},
   "outputs": [
    {
     "name": "stdout",
     "output_type": "stream",
     "text": [
      "Original annotators: ['0' '3' '1' '2']\n",
      "Cross annotators: ['0' '3' '2' '1']\n",
      "Original annotators counts: 0    134\n",
      "1    111\n",
      "2     70\n",
      "3     17\n",
      "Name: original_annotator, dtype: int64\n",
      "Cross annotators counts: 1    109\n",
      "0     98\n",
      "2     98\n",
      "3     27\n",
      "Name: cross_annotator, dtype: int64\n"
     ]
    }
   ],
   "source": [
    "# Get unique values in the columns of the dataframe\n",
    "original_annotators = df['original_annotator'].unique()\n",
    "cross_annotators = df['cross_annotator'].unique()\n",
    "\n",
    "# Print\n",
    "print(\"Original annotators: {original_annotators}\".format(original_annotators=original_annotators))\n",
    "print(\"Cross annotators: {cross_annotators}\".format(cross_annotators=cross_annotators))\n",
    "\n",
    "# Get counts of the unique values\n",
    "original_annotators_counts = df['original_annotator'].value_counts()\n",
    "cross_annotators_counts = df['cross_annotator'].value_counts()\n",
    "\n",
    "# Print\n",
    "print(\"Original annotators counts: {original_annotators_counts}\".format(original_annotators_counts=original_annotators_counts))\n",
    "print(\"Cross annotators counts: {cross_annotators_counts}\".format(cross_annotators_counts=cross_annotators_counts))"
   ]
  },
  {
   "cell_type": "code",
   "execution_count": 21,
   "metadata": {},
   "outputs": [
    {
     "data": {
      "application/vnd.plotly.v1+json": {
       "config": {
        "plotlyServerURL": "https://plot.ly"
       },
       "data": [
        {
         "coloraxis": "coloraxis",
         "hovertemplate": "x: %{x}<br>y: %{y}<br>color: %{z}<extra></extra>",
         "name": "0",
         "texttemplate": "%{z}",
         "type": "heatmap",
         "x": [
          0,
          1,
          2,
          3
         ],
         "xaxis": "x",
         "y": [
          0,
          1,
          2,
          3
         ],
         "yaxis": "y",
         "z": [
          [
           70,
           43,
           17,
           4
          ],
          [
           22,
           44,
           35,
           10
          ],
          [
           6,
           19,
           37,
           8
          ],
          [
           0,
           3,
           9,
           5
          ]
         ]
        }
       ],
       "layout": {
        "coloraxis": {
         "colorscale": [
          [
           0,
           "#0d0887"
          ],
          [
           0.1111111111111111,
           "#46039f"
          ],
          [
           0.2222222222222222,
           "#7201a8"
          ],
          [
           0.3333333333333333,
           "#9c179e"
          ],
          [
           0.4444444444444444,
           "#bd3786"
          ],
          [
           0.5555555555555556,
           "#d8576b"
          ],
          [
           0.6666666666666666,
           "#ed7953"
          ],
          [
           0.7777777777777778,
           "#fb9f3a"
          ],
          [
           0.8888888888888888,
           "#fdca26"
          ],
          [
           1,
           "#f0f921"
          ]
         ]
        },
        "template": {
         "data": {
          "bar": [
           {
            "error_x": {
             "color": "#2a3f5f"
            },
            "error_y": {
             "color": "#2a3f5f"
            },
            "marker": {
             "line": {
              "color": "#E5ECF6",
              "width": 0.5
             },
             "pattern": {
              "fillmode": "overlay",
              "size": 10,
              "solidity": 0.2
             }
            },
            "type": "bar"
           }
          ],
          "barpolar": [
           {
            "marker": {
             "line": {
              "color": "#E5ECF6",
              "width": 0.5
             },
             "pattern": {
              "fillmode": "overlay",
              "size": 10,
              "solidity": 0.2
             }
            },
            "type": "barpolar"
           }
          ],
          "carpet": [
           {
            "aaxis": {
             "endlinecolor": "#2a3f5f",
             "gridcolor": "white",
             "linecolor": "white",
             "minorgridcolor": "white",
             "startlinecolor": "#2a3f5f"
            },
            "baxis": {
             "endlinecolor": "#2a3f5f",
             "gridcolor": "white",
             "linecolor": "white",
             "minorgridcolor": "white",
             "startlinecolor": "#2a3f5f"
            },
            "type": "carpet"
           }
          ],
          "choropleth": [
           {
            "colorbar": {
             "outlinewidth": 0,
             "ticks": ""
            },
            "type": "choropleth"
           }
          ],
          "contour": [
           {
            "colorbar": {
             "outlinewidth": 0,
             "ticks": ""
            },
            "colorscale": [
             [
              0,
              "#0d0887"
             ],
             [
              0.1111111111111111,
              "#46039f"
             ],
             [
              0.2222222222222222,
              "#7201a8"
             ],
             [
              0.3333333333333333,
              "#9c179e"
             ],
             [
              0.4444444444444444,
              "#bd3786"
             ],
             [
              0.5555555555555556,
              "#d8576b"
             ],
             [
              0.6666666666666666,
              "#ed7953"
             ],
             [
              0.7777777777777778,
              "#fb9f3a"
             ],
             [
              0.8888888888888888,
              "#fdca26"
             ],
             [
              1,
              "#f0f921"
             ]
            ],
            "type": "contour"
           }
          ],
          "contourcarpet": [
           {
            "colorbar": {
             "outlinewidth": 0,
             "ticks": ""
            },
            "type": "contourcarpet"
           }
          ],
          "heatmap": [
           {
            "colorbar": {
             "outlinewidth": 0,
             "ticks": ""
            },
            "colorscale": [
             [
              0,
              "#0d0887"
             ],
             [
              0.1111111111111111,
              "#46039f"
             ],
             [
              0.2222222222222222,
              "#7201a8"
             ],
             [
              0.3333333333333333,
              "#9c179e"
             ],
             [
              0.4444444444444444,
              "#bd3786"
             ],
             [
              0.5555555555555556,
              "#d8576b"
             ],
             [
              0.6666666666666666,
              "#ed7953"
             ],
             [
              0.7777777777777778,
              "#fb9f3a"
             ],
             [
              0.8888888888888888,
              "#fdca26"
             ],
             [
              1,
              "#f0f921"
             ]
            ],
            "type": "heatmap"
           }
          ],
          "heatmapgl": [
           {
            "colorbar": {
             "outlinewidth": 0,
             "ticks": ""
            },
            "colorscale": [
             [
              0,
              "#0d0887"
             ],
             [
              0.1111111111111111,
              "#46039f"
             ],
             [
              0.2222222222222222,
              "#7201a8"
             ],
             [
              0.3333333333333333,
              "#9c179e"
             ],
             [
              0.4444444444444444,
              "#bd3786"
             ],
             [
              0.5555555555555556,
              "#d8576b"
             ],
             [
              0.6666666666666666,
              "#ed7953"
             ],
             [
              0.7777777777777778,
              "#fb9f3a"
             ],
             [
              0.8888888888888888,
              "#fdca26"
             ],
             [
              1,
              "#f0f921"
             ]
            ],
            "type": "heatmapgl"
           }
          ],
          "histogram": [
           {
            "marker": {
             "pattern": {
              "fillmode": "overlay",
              "size": 10,
              "solidity": 0.2
             }
            },
            "type": "histogram"
           }
          ],
          "histogram2d": [
           {
            "colorbar": {
             "outlinewidth": 0,
             "ticks": ""
            },
            "colorscale": [
             [
              0,
              "#0d0887"
             ],
             [
              0.1111111111111111,
              "#46039f"
             ],
             [
              0.2222222222222222,
              "#7201a8"
             ],
             [
              0.3333333333333333,
              "#9c179e"
             ],
             [
              0.4444444444444444,
              "#bd3786"
             ],
             [
              0.5555555555555556,
              "#d8576b"
             ],
             [
              0.6666666666666666,
              "#ed7953"
             ],
             [
              0.7777777777777778,
              "#fb9f3a"
             ],
             [
              0.8888888888888888,
              "#fdca26"
             ],
             [
              1,
              "#f0f921"
             ]
            ],
            "type": "histogram2d"
           }
          ],
          "histogram2dcontour": [
           {
            "colorbar": {
             "outlinewidth": 0,
             "ticks": ""
            },
            "colorscale": [
             [
              0,
              "#0d0887"
             ],
             [
              0.1111111111111111,
              "#46039f"
             ],
             [
              0.2222222222222222,
              "#7201a8"
             ],
             [
              0.3333333333333333,
              "#9c179e"
             ],
             [
              0.4444444444444444,
              "#bd3786"
             ],
             [
              0.5555555555555556,
              "#d8576b"
             ],
             [
              0.6666666666666666,
              "#ed7953"
             ],
             [
              0.7777777777777778,
              "#fb9f3a"
             ],
             [
              0.8888888888888888,
              "#fdca26"
             ],
             [
              1,
              "#f0f921"
             ]
            ],
            "type": "histogram2dcontour"
           }
          ],
          "mesh3d": [
           {
            "colorbar": {
             "outlinewidth": 0,
             "ticks": ""
            },
            "type": "mesh3d"
           }
          ],
          "parcoords": [
           {
            "line": {
             "colorbar": {
              "outlinewidth": 0,
              "ticks": ""
             }
            },
            "type": "parcoords"
           }
          ],
          "pie": [
           {
            "automargin": true,
            "type": "pie"
           }
          ],
          "scatter": [
           {
            "fillpattern": {
             "fillmode": "overlay",
             "size": 10,
             "solidity": 0.2
            },
            "type": "scatter"
           }
          ],
          "scatter3d": [
           {
            "line": {
             "colorbar": {
              "outlinewidth": 0,
              "ticks": ""
             }
            },
            "marker": {
             "colorbar": {
              "outlinewidth": 0,
              "ticks": ""
             }
            },
            "type": "scatter3d"
           }
          ],
          "scattercarpet": [
           {
            "marker": {
             "colorbar": {
              "outlinewidth": 0,
              "ticks": ""
             }
            },
            "type": "scattercarpet"
           }
          ],
          "scattergeo": [
           {
            "marker": {
             "colorbar": {
              "outlinewidth": 0,
              "ticks": ""
             }
            },
            "type": "scattergeo"
           }
          ],
          "scattergl": [
           {
            "marker": {
             "colorbar": {
              "outlinewidth": 0,
              "ticks": ""
             }
            },
            "type": "scattergl"
           }
          ],
          "scattermapbox": [
           {
            "marker": {
             "colorbar": {
              "outlinewidth": 0,
              "ticks": ""
             }
            },
            "type": "scattermapbox"
           }
          ],
          "scatterpolar": [
           {
            "marker": {
             "colorbar": {
              "outlinewidth": 0,
              "ticks": ""
             }
            },
            "type": "scatterpolar"
           }
          ],
          "scatterpolargl": [
           {
            "marker": {
             "colorbar": {
              "outlinewidth": 0,
              "ticks": ""
             }
            },
            "type": "scatterpolargl"
           }
          ],
          "scatterternary": [
           {
            "marker": {
             "colorbar": {
              "outlinewidth": 0,
              "ticks": ""
             }
            },
            "type": "scatterternary"
           }
          ],
          "surface": [
           {
            "colorbar": {
             "outlinewidth": 0,
             "ticks": ""
            },
            "colorscale": [
             [
              0,
              "#0d0887"
             ],
             [
              0.1111111111111111,
              "#46039f"
             ],
             [
              0.2222222222222222,
              "#7201a8"
             ],
             [
              0.3333333333333333,
              "#9c179e"
             ],
             [
              0.4444444444444444,
              "#bd3786"
             ],
             [
              0.5555555555555556,
              "#d8576b"
             ],
             [
              0.6666666666666666,
              "#ed7953"
             ],
             [
              0.7777777777777778,
              "#fb9f3a"
             ],
             [
              0.8888888888888888,
              "#fdca26"
             ],
             [
              1,
              "#f0f921"
             ]
            ],
            "type": "surface"
           }
          ],
          "table": [
           {
            "cells": {
             "fill": {
              "color": "#EBF0F8"
             },
             "line": {
              "color": "white"
             }
            },
            "header": {
             "fill": {
              "color": "#C8D4E3"
             },
             "line": {
              "color": "white"
             }
            },
            "type": "table"
           }
          ]
         },
         "layout": {
          "annotationdefaults": {
           "arrowcolor": "#2a3f5f",
           "arrowhead": 0,
           "arrowwidth": 1
          },
          "autotypenumbers": "strict",
          "coloraxis": {
           "colorbar": {
            "outlinewidth": 0,
            "ticks": ""
           }
          },
          "colorscale": {
           "diverging": [
            [
             0,
             "#8e0152"
            ],
            [
             0.1,
             "#c51b7d"
            ],
            [
             0.2,
             "#de77ae"
            ],
            [
             0.3,
             "#f1b6da"
            ],
            [
             0.4,
             "#fde0ef"
            ],
            [
             0.5,
             "#f7f7f7"
            ],
            [
             0.6,
             "#e6f5d0"
            ],
            [
             0.7,
             "#b8e186"
            ],
            [
             0.8,
             "#7fbc41"
            ],
            [
             0.9,
             "#4d9221"
            ],
            [
             1,
             "#276419"
            ]
           ],
           "sequential": [
            [
             0,
             "#0d0887"
            ],
            [
             0.1111111111111111,
             "#46039f"
            ],
            [
             0.2222222222222222,
             "#7201a8"
            ],
            [
             0.3333333333333333,
             "#9c179e"
            ],
            [
             0.4444444444444444,
             "#bd3786"
            ],
            [
             0.5555555555555556,
             "#d8576b"
            ],
            [
             0.6666666666666666,
             "#ed7953"
            ],
            [
             0.7777777777777778,
             "#fb9f3a"
            ],
            [
             0.8888888888888888,
             "#fdca26"
            ],
            [
             1,
             "#f0f921"
            ]
           ],
           "sequentialminus": [
            [
             0,
             "#0d0887"
            ],
            [
             0.1111111111111111,
             "#46039f"
            ],
            [
             0.2222222222222222,
             "#7201a8"
            ],
            [
             0.3333333333333333,
             "#9c179e"
            ],
            [
             0.4444444444444444,
             "#bd3786"
            ],
            [
             0.5555555555555556,
             "#d8576b"
            ],
            [
             0.6666666666666666,
             "#ed7953"
            ],
            [
             0.7777777777777778,
             "#fb9f3a"
            ],
            [
             0.8888888888888888,
             "#fdca26"
            ],
            [
             1,
             "#f0f921"
            ]
           ]
          },
          "colorway": [
           "#636efa",
           "#EF553B",
           "#00cc96",
           "#ab63fa",
           "#FFA15A",
           "#19d3f3",
           "#FF6692",
           "#B6E880",
           "#FF97FF",
           "#FECB52"
          ],
          "font": {
           "color": "#2a3f5f"
          },
          "geo": {
           "bgcolor": "white",
           "lakecolor": "white",
           "landcolor": "#E5ECF6",
           "showlakes": true,
           "showland": true,
           "subunitcolor": "white"
          },
          "hoverlabel": {
           "align": "left"
          },
          "hovermode": "closest",
          "mapbox": {
           "style": "light"
          },
          "paper_bgcolor": "white",
          "plot_bgcolor": "#E5ECF6",
          "polar": {
           "angularaxis": {
            "gridcolor": "white",
            "linecolor": "white",
            "ticks": ""
           },
           "bgcolor": "#E5ECF6",
           "radialaxis": {
            "gridcolor": "white",
            "linecolor": "white",
            "ticks": ""
           }
          },
          "scene": {
           "xaxis": {
            "backgroundcolor": "#E5ECF6",
            "gridcolor": "white",
            "gridwidth": 2,
            "linecolor": "white",
            "showbackground": true,
            "ticks": "",
            "zerolinecolor": "white"
           },
           "yaxis": {
            "backgroundcolor": "#E5ECF6",
            "gridcolor": "white",
            "gridwidth": 2,
            "linecolor": "white",
            "showbackground": true,
            "ticks": "",
            "zerolinecolor": "white"
           },
           "zaxis": {
            "backgroundcolor": "#E5ECF6",
            "gridcolor": "white",
            "gridwidth": 2,
            "linecolor": "white",
            "showbackground": true,
            "ticks": "",
            "zerolinecolor": "white"
           }
          },
          "shapedefaults": {
           "line": {
            "color": "#2a3f5f"
           }
          },
          "ternary": {
           "aaxis": {
            "gridcolor": "white",
            "linecolor": "white",
            "ticks": ""
           },
           "baxis": {
            "gridcolor": "white",
            "linecolor": "white",
            "ticks": ""
           },
           "bgcolor": "#E5ECF6",
           "caxis": {
            "gridcolor": "white",
            "linecolor": "white",
            "ticks": ""
           }
          },
          "title": {
           "x": 0.05
          },
          "xaxis": {
           "automargin": true,
           "gridcolor": "white",
           "linecolor": "white",
           "ticks": "",
           "title": {
            "standoff": 15
           },
           "zerolinecolor": "white",
           "zerolinewidth": 2
          },
          "yaxis": {
           "automargin": true,
           "gridcolor": "white",
           "linecolor": "white",
           "ticks": "",
           "title": {
            "standoff": 15
           },
           "zerolinecolor": "white",
           "zerolinewidth": 2
          }
         }
        },
        "title": {
         "text": "Confusion Matrix"
        },
        "xaxis": {
         "anchor": "y",
         "constrain": "domain",
         "domain": [
          0,
          1
         ],
         "scaleanchor": "y",
         "title": {
          "text": "Divette Label"
         }
        },
        "yaxis": {
         "anchor": "x",
         "autorange": "reversed",
         "constrain": "domain",
         "domain": [
          0,
          1
         ],
         "title": {
          "text": "Carlos Label"
         }
        }
       }
      }
     },
     "metadata": {},
     "output_type": "display_data"
    }
   ],
   "source": [
    "conf_matrix = confusion_matrix(df['original_annotator'], df['cross_annotator'])\n",
    "# Convert the confusion matrix to a Pandas dataframe\n",
    "cm_df = pd.DataFrame(conf_matrix)#, index=['true 0', 'true 1', 'true 2', 'true 3'], columns=['pred 0', 'pred 1', 'pred 2', 'pred 3'])\n",
    "\n",
    "# Create a heatmap of the confusion matrix\n",
    "fig = px.imshow(cm_df, title='Confusion Matrix', text_auto=True)\n",
    "fig.update_layout(title='Confusion Matrix', yaxis_title='Carlos Label', xaxis_title='Divette Label')\n",
    "fig.show()"
   ]
  },
  {
   "cell_type": "code",
   "execution_count": 29,
   "metadata": {},
   "outputs": [
    {
     "name": "stdout",
     "output_type": "stream",
     "text": [
      "Cohen's Kappa: 0.2477276823647553\n"
     ]
    }
   ],
   "source": [
    "#calculate Cohen's Kappa\n",
    "c_score = cohen_kappa_score(df['original_annotator'], df['cross_annotator'])\n",
    "print(\"Cohen's Kappa: {c_score}\".format(c_score=c_score))"
   ]
  }
 ],
 "metadata": {
  "kernelspec": {
   "display_name": "Python 3",
   "language": "python",
   "name": "python3"
  },
  "language_info": {
   "codemirror_mode": {
    "name": "ipython",
    "version": 3
   },
   "file_extension": ".py",
   "mimetype": "text/x-python",
   "name": "python",
   "nbconvert_exporter": "python",
   "pygments_lexer": "ipython3",
   "version": "3.9.8"
  },
  "orig_nbformat": 4,
  "vscode": {
   "interpreter": {
    "hash": "81794d4967e6c3204c66dcd87b604927b115b27c00565d3d43f05ba2f3a2cb0d"
   }
  }
 },
 "nbformat": 4,
 "nbformat_minor": 2
}
