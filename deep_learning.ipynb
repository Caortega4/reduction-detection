{
 "cells": [
  {
   "cell_type": "code",
   "execution_count": 31,
   "metadata": {},
   "outputs": [],
   "source": [
    "import os\n",
    "import numpy as np\n",
    "import pandas as pd\n",
    "\n",
    "import plotly.express as px\n",
    "import plotly.graph_objects as go\n",
    "from keras.utils import to_categorical\n",
    "from sklearn.metrics import accuracy_score\n",
    "from sklearn.metrics import confusion_matrix\n",
    "from keras.models import Sequential\n",
    "from keras.layers import Dense, Conv1D, MaxPooling1D, Flatten, Dropout\n",
    "from sklearn.model_selection import train_test_split"
   ]
  },
  {
   "cell_type": "code",
   "execution_count": 3,
   "metadata": {},
   "outputs": [],
   "source": [
    "def get_dataframe(language):\n",
    "  # Set the directory path\n",
    "  directory_path = 'C:\\Research\\labeled_features\\{}'.format(language)\n",
    "\n",
    "  # Create an empty list to store the dataframes\n",
    "  dataframes = []\n",
    "\n",
    "  # Iterate through all the files in the directory\n",
    "  for file in os.listdir(directory_path):\n",
    "    # Check if the file is a CSV file\n",
    "    if file.endswith('.csv'):\n",
    "      # Read the CSV file into a Pandas dataframe\n",
    "      df = pd.read_csv(os.path.join(directory_path, file))\n",
    "\n",
    "      # Drop rows where the 'label' column is not what was expected\n",
    "      df = df[df['label'].isin([0, 1, 2, 3])]\n",
    "\n",
    "      # Append the dataframe to the list\n",
    "      dataframes.append(df)\n",
    "\n",
    "  # Concatenate all the dataframes into a single dataframe\n",
    "  df_all = pd.concat(dataframes)\n",
    "\n",
    "  # Model was predicting negative values, so I had to remove the negative values\n",
    "  df_all = df_all[df_all['label'].isin([0, 1, 2, 3])]\n",
    "\n",
    "  # Add column with the index of each row, reset the indices\n",
    "  df_all = df_all.reset_index(drop=True)\n",
    "\n",
    "  # Create a list where at each index is the sample_id of that row\n",
    "  sample_ids = df_all['sample_id'].tolist()\n",
    "\n",
    "  # Drop the 'sample_id' column\n",
    "  return df_all.drop(columns=['sample_id'])"
   ]
  },
  {
   "cell_type": "code",
   "execution_count": 4,
   "metadata": {},
   "outputs": [],
   "source": [
    "# Get the dataframe\n",
    "df_english = get_dataframe('EN')"
   ]
  },
  {
   "cell_type": "code",
   "execution_count": 8,
   "metadata": {},
   "outputs": [],
   "source": [
    "def get_predictions(model, X_test):\n",
    "    # Make predictions on the testing data\n",
    "    unrounded_predictions = model.predict(X_test)\n",
    "\n",
    "    # Round the predictions to the nearest integer\n",
    "    predictions = np.round(unrounded_predictions)\n",
    "\n",
    "    # Make all negative predictions 0\n",
    "    predictions[predictions < 0] = 0\n",
    "\n",
    "    return unrounded_predictions, predictions"
   ]
  },
  {
   "cell_type": "code",
   "execution_count": 9,
   "metadata": {},
   "outputs": [],
   "source": [
    "def plot_conf_matrix(y_test, predictions, language_model, language_test):\n",
    "    # Calculate the confusion matrix\n",
    "    cm = confusion_matrix(y_test, predictions)\n",
    "\n",
    "    # Convert the confusion matrix to a Pandas dataframe\n",
    "    cm_df = pd.DataFrame(cm)#, index=['true 0', 'true 1', 'true 2', 'true 3'], columns=['pred 0', 'pred 1', 'pred 2', 'pred 3'])\n",
    "\n",
    "    # Create a heatmap of the confusion matrix\n",
    "    fig = px.imshow(cm_df, title='Confusion Matrix', text_auto=True)\n",
    "    fig.update_layout(title='Confusion Matrix Predicted with {} model, on {} data'.format(language_model, language_test), xaxis_title='Predicted', yaxis_title='Expected')\n",
    "    fig.show()"
   ]
  },
  {
   "cell_type": "code",
   "execution_count": 10,
   "metadata": {},
   "outputs": [],
   "source": [
    "def plot_correlations(df_all, language_model, language_test):\n",
    "    # Calculate the correlations between the columns and the label\n",
    "    correlations = df_all.corr()['label'].iloc[:-1]\n",
    "\n",
    "    # Create a scatter plot of the correlations\n",
    "    fig = px.scatter(x=correlations.index, y=correlations, title='Correlations')\n",
    "    fig.update_layout(title='Correlations between features and label, predicted with {} model, on {} data'.format(language_model, language_test), xaxis_title='Feature', yaxis_title='Correlation')\n",
    "    fig.show()\n",
    "\n",
    "    # Create a dataframe from the correlations\n",
    "    correlations_df = pd.DataFrame(correlations)\n",
    "\n",
    "    # correlations_df.style.background_gradient(cmap ='viridis')\\\n",
    "    # .set_properties(**{'font-size': '20px'})"
   ]
  },
  {
   "cell_type": "code",
   "execution_count": 11,
   "metadata": {},
   "outputs": [],
   "source": [
    "def compute_correlation(unrounded_predictions, y_test):\n",
    "    expected_predicted_df = pd.DataFrame()\n",
    "    expected_predicted_df['expected'] = y_test\n",
    "    expected_predicted_df['predicted'] = unrounded_predictions\n",
    "    corr = expected_predicted_df.corr()['predicted'].iloc[0]\n",
    "    return expected_predicted_df, corr"
   ]
  },
  {
   "cell_type": "code",
   "execution_count": 12,
   "metadata": {},
   "outputs": [],
   "source": [
    "def plot_expected_vs_predicted(expected_predicted_df, language_model, language_test):\n",
    "  fig = go.Figure()\n",
    "\n",
    "  labels = expected_predicted_df['expected'].unique()\n",
    "\n",
    "  for label in labels:\n",
    "    fig.add_trace(go.Violin(\n",
    "    x=expected_predicted_df['expected'][expected_predicted_df['expected'] == label],\n",
    "    y=expected_predicted_df['predicted'][expected_predicted_df['expected'] == label],\n",
    "    name=label,\n",
    "    box_visible=True,\n",
    "    meanline_visible=False,\n",
    "    ))\n",
    "\n",
    "  fig.update_layout(title='Expected vs Predicted, predicted with {} model, on {} data'.format(language_model, language_test), xaxis_title='Expected', yaxis_title='Predicted')\n",
    "  fig.show()"
   ]
  },
  {
   "cell_type": "code",
   "execution_count": 39,
   "metadata": {},
   "outputs": [
    {
     "name": "stdout",
     "output_type": "stream",
     "text": [
      "Epoch 1/50\n",
      "3123/3123 [==============================] - 25s 8ms/step - loss: 1.2134 - accuracy: 0.4035 - val_loss: 1.2004 - val_accuracy: 0.4275\n",
      "Epoch 2/50\n",
      "3123/3123 [==============================] - 27s 9ms/step - loss: 1.1948 - accuracy: 0.4268 - val_loss: 1.1853 - val_accuracy: 0.4448\n",
      "Epoch 3/50\n",
      "3123/3123 [==============================] - 28s 9ms/step - loss: 1.1820 - accuracy: 0.4388 - val_loss: 1.1708 - val_accuracy: 0.4555\n",
      "Epoch 4/50\n",
      "3123/3123 [==============================] - 27s 9ms/step - loss: 1.1700 - accuracy: 0.4484 - val_loss: 1.1608 - val_accuracy: 0.4624\n",
      "Epoch 5/50\n",
      "3123/3123 [==============================] - 30s 10ms/step - loss: 1.1594 - accuracy: 0.4578 - val_loss: 1.1470 - val_accuracy: 0.4725\n",
      "Epoch 6/50\n",
      "3123/3123 [==============================] - 29s 9ms/step - loss: 1.1483 - accuracy: 0.4639 - val_loss: 1.1336 - val_accuracy: 0.4752\n",
      "Epoch 7/50\n",
      "3123/3123 [==============================] - 30s 9ms/step - loss: 1.1383 - accuracy: 0.4661 - val_loss: 1.1221 - val_accuracy: 0.4882\n",
      "Epoch 8/50\n",
      "3123/3123 [==============================] - 30s 9ms/step - loss: 1.1302 - accuracy: 0.4742 - val_loss: 1.1109 - val_accuracy: 0.4905\n",
      "Epoch 9/50\n",
      "3123/3123 [==============================] - 30s 10ms/step - loss: 1.1194 - accuracy: 0.4766 - val_loss: 1.0968 - val_accuracy: 0.4985\n",
      "Epoch 10/50\n",
      "3123/3123 [==============================] - 30s 10ms/step - loss: 1.1115 - accuracy: 0.4827 - val_loss: 1.0971 - val_accuracy: 0.4990\n",
      "Epoch 11/50\n",
      "3123/3123 [==============================] - 30s 10ms/step - loss: 1.1026 - accuracy: 0.4883 - val_loss: 1.0827 - val_accuracy: 0.5068\n",
      "Epoch 12/50\n",
      "3123/3123 [==============================] - 30s 10ms/step - loss: 1.0938 - accuracy: 0.4934 - val_loss: 1.0715 - val_accuracy: 0.5112\n",
      "Epoch 13/50\n",
      "3123/3123 [==============================] - 30s 10ms/step - loss: 1.0864 - accuracy: 0.4972 - val_loss: 1.0678 - val_accuracy: 0.5094\n",
      "Epoch 14/50\n",
      "3123/3123 [==============================] - 30s 10ms/step - loss: 1.0823 - accuracy: 0.4979 - val_loss: 1.0627 - val_accuracy: 0.5191\n",
      "Epoch 15/50\n",
      "3123/3123 [==============================] - 30s 10ms/step - loss: 1.0742 - accuracy: 0.5006 - val_loss: 1.0594 - val_accuracy: 0.5162\n",
      "Epoch 16/50\n",
      "3123/3123 [==============================] - 33s 11ms/step - loss: 1.0700 - accuracy: 0.5057 - val_loss: 1.0441 - val_accuracy: 0.5247\n",
      "Epoch 17/50\n",
      "3123/3123 [==============================] - 32s 10ms/step - loss: 1.0635 - accuracy: 0.5075 - val_loss: 1.0444 - val_accuracy: 0.5253\n",
      "Epoch 18/50\n",
      "3123/3123 [==============================] - 29s 9ms/step - loss: 1.0569 - accuracy: 0.5133 - val_loss: 1.0292 - val_accuracy: 0.5393\n",
      "Epoch 19/50\n",
      "3123/3123 [==============================] - 29s 9ms/step - loss: 1.0531 - accuracy: 0.5141 - val_loss: 1.0306 - val_accuracy: 0.5323\n",
      "Epoch 20/50\n",
      "3123/3123 [==============================] - 29s 9ms/step - loss: 1.0491 - accuracy: 0.5143 - val_loss: 1.0173 - val_accuracy: 0.5468\n",
      "Epoch 21/50\n",
      "3123/3123 [==============================] - 29s 9ms/step - loss: 1.0430 - accuracy: 0.5181 - val_loss: 1.0118 - val_accuracy: 0.5415\n",
      "Epoch 22/50\n",
      "3123/3123 [==============================] - 29s 9ms/step - loss: 1.0380 - accuracy: 0.5208 - val_loss: 1.0045 - val_accuracy: 0.5476\n",
      "Epoch 23/50\n",
      "3123/3123 [==============================] - 29s 9ms/step - loss: 1.0331 - accuracy: 0.5221 - val_loss: 1.0029 - val_accuracy: 0.5479\n",
      "Epoch 24/50\n",
      "3123/3123 [==============================] - 30s 10ms/step - loss: 1.0298 - accuracy: 0.5260 - val_loss: 0.9983 - val_accuracy: 0.5510\n",
      "Epoch 25/50\n",
      "3123/3123 [==============================] - 31s 10ms/step - loss: 1.0269 - accuracy: 0.5271 - val_loss: 0.9901 - val_accuracy: 0.5560\n",
      "Epoch 26/50\n",
      "3123/3123 [==============================] - 30s 10ms/step - loss: 1.0255 - accuracy: 0.5292 - val_loss: 0.9953 - val_accuracy: 0.5553\n",
      "Epoch 27/50\n",
      "3123/3123 [==============================] - 29s 9ms/step - loss: 1.0217 - accuracy: 0.5291 - val_loss: 0.9878 - val_accuracy: 0.5560\n",
      "Epoch 28/50\n",
      "3123/3123 [==============================] - 29s 9ms/step - loss: 1.0178 - accuracy: 0.5308 - val_loss: 0.9865 - val_accuracy: 0.5568\n",
      "Epoch 29/50\n",
      "3123/3123 [==============================] - 34s 11ms/step - loss: 1.0128 - accuracy: 0.5345 - val_loss: 0.9804 - val_accuracy: 0.5610\n",
      "Epoch 30/50\n",
      "3123/3123 [==============================] - 32s 10ms/step - loss: 1.0084 - accuracy: 0.5372 - val_loss: 0.9722 - val_accuracy: 0.5676\n",
      "Epoch 31/50\n",
      "3123/3123 [==============================] - 30s 10ms/step - loss: 1.0067 - accuracy: 0.5377 - val_loss: 0.9689 - val_accuracy: 0.5695\n",
      "Epoch 32/50\n",
      "3123/3123 [==============================] - 29s 9ms/step - loss: 1.0061 - accuracy: 0.5378 - val_loss: 0.9740 - val_accuracy: 0.5705\n",
      "Epoch 33/50\n",
      "3123/3123 [==============================] - 29s 9ms/step - loss: 1.0033 - accuracy: 0.5421 - val_loss: 0.9681 - val_accuracy: 0.5655\n",
      "Epoch 34/50\n",
      "3123/3123 [==============================] - 30s 9ms/step - loss: 0.9975 - accuracy: 0.5413 - val_loss: 0.9637 - val_accuracy: 0.5716\n",
      "Epoch 35/50\n",
      "3123/3123 [==============================] - 29s 9ms/step - loss: 0.9976 - accuracy: 0.5440 - val_loss: 0.9589 - val_accuracy: 0.5749\n",
      "Epoch 36/50\n",
      "3123/3123 [==============================] - 34s 11ms/step - loss: 0.9934 - accuracy: 0.5452 - val_loss: 0.9585 - val_accuracy: 0.5735\n",
      "Epoch 37/50\n",
      "3123/3123 [==============================] - 47s 15ms/step - loss: 0.9904 - accuracy: 0.5477 - val_loss: 0.9516 - val_accuracy: 0.5773\n",
      "Epoch 38/50\n",
      "3123/3123 [==============================] - 45s 14ms/step - loss: 0.9892 - accuracy: 0.5487 - val_loss: 0.9549 - val_accuracy: 0.5775\n",
      "Epoch 39/50\n",
      "3123/3123 [==============================] - 47s 15ms/step - loss: 0.9882 - accuracy: 0.5525 - val_loss: 0.9455 - val_accuracy: 0.5802\n",
      "Epoch 40/50\n",
      "3123/3123 [==============================] - 44s 14ms/step - loss: 0.9843 - accuracy: 0.5523 - val_loss: 0.9488 - val_accuracy: 0.5832\n",
      "Epoch 41/50\n",
      "3123/3123 [==============================] - 43s 14ms/step - loss: 0.9823 - accuracy: 0.5527 - val_loss: 0.9349 - val_accuracy: 0.5837\n",
      "Epoch 42/50\n",
      "3123/3123 [==============================] - 41s 13ms/step - loss: 0.9782 - accuracy: 0.5547 - val_loss: 0.9461 - val_accuracy: 0.5809\n",
      "Epoch 43/50\n",
      "3123/3123 [==============================] - 41s 13ms/step - loss: 0.9779 - accuracy: 0.5559 - val_loss: 0.9475 - val_accuracy: 0.5832\n",
      "Epoch 44/50\n",
      "3123/3123 [==============================] - 39s 13ms/step - loss: 0.9763 - accuracy: 0.5549 - val_loss: 0.9353 - val_accuracy: 0.5874\n",
      "Epoch 45/50\n",
      "3123/3123 [==============================] - 45s 14ms/step - loss: 0.9733 - accuracy: 0.5583 - val_loss: 0.9364 - val_accuracy: 0.5886\n",
      "Epoch 46/50\n",
      "3123/3123 [==============================] - 42s 14ms/step - loss: 0.9726 - accuracy: 0.5596 - val_loss: 0.9344 - val_accuracy: 0.5872\n",
      "Epoch 47/50\n",
      "3123/3123 [==============================] - 42s 14ms/step - loss: 0.9699 - accuracy: 0.5607 - val_loss: 0.9260 - val_accuracy: 0.5930\n",
      "Epoch 48/50\n",
      "3123/3123 [==============================] - 42s 13ms/step - loss: 0.9674 - accuracy: 0.5607 - val_loss: 0.9357 - val_accuracy: 0.5914\n",
      "Epoch 49/50\n",
      "3123/3123 [==============================] - 43s 14ms/step - loss: 0.9686 - accuracy: 0.5618 - val_loss: 0.9213 - val_accuracy: 0.5967\n",
      "Epoch 50/50\n",
      "3123/3123 [==============================] - 42s 13ms/step - loss: 0.9623 - accuracy: 0.5657 - val_loss: 0.9252 - val_accuracy: 0.5953\n",
      "Test accuracy: 0.5953238606452942\n"
     ]
    }
   ],
   "source": [
    "X = df_english.iloc[:, :-1]\n",
    "y = df_english['label']\n",
    "\n",
    "y = to_categorical(y) # one-hot encode the labels\n",
    "X_train, X_test, y_train, y_test = train_test_split(X, y, test_size=0.2, random_state=42)\n",
    "\n",
    "# Create the model\n",
    "model = Sequential()\n",
    "model.add(Conv1D(64, kernel_size=3, activation='relu', input_shape=(61, 1)))\n",
    "model.add(Conv1D(32, kernel_size=3, activation='relu'))\n",
    "model.add(Conv1D(16, kernel_size=3, activation='relu'))\n",
    "model.add(Flatten())\n",
    "model.add(Dropout(0.2))\n",
    "model.add(Dense(64, activation='relu'))\n",
    "model.add(Dropout(0.2))\n",
    "model.add(Dense(4, activation='softmax'))\n",
    "\n",
    "# Compile the model\n",
    "model.compile(optimizer='adam', loss='categorical_crossentropy', metrics=['accuracy'])\n",
    "\n",
    "# Train the model\n",
    "model.fit(X_train, y_train, batch_size=32, epochs=50, validation_data=(X_test, y_test))\n",
    "\n",
    "# Evaluate the model on the test data\n",
    "test_loss, test_acc = model.evaluate(X_test, y_test, verbose=0)\n",
    "print('Test accuracy:', test_acc)"
   ]
  },
  {
   "cell_type": "code",
   "execution_count": 40,
   "metadata": {},
   "outputs": [
    {
     "name": "stdout",
     "output_type": "stream",
     "text": [
      "781/781 [==============================] - 5s 7ms/step\n"
     ]
    },
    {
     "data": {
      "application/vnd.plotly.v1+json": {
       "config": {
        "plotlyServerURL": "https://plot.ly"
       },
       "data": [
        {
         "coloraxis": "coloraxis",
         "hovertemplate": "x: %{x}<br>y: %{y}<br>color: %{z}<extra></extra>",
         "name": "0",
         "texttemplate": "%{z}",
         "type": "heatmap",
         "xaxis": "x",
         "yaxis": "y",
         "z": [
          [
           5051,
           3239,
           386,
           18
          ],
          [
           1451,
           7688,
           388,
           25
          ],
          [
           1019,
           2393,
           1832,
           27
          ],
          [
           382,
           609,
           171,
           299
          ]
         ]
        }
       ],
       "layout": {
        "coloraxis": {
         "colorscale": [
          [
           0,
           "#0d0887"
          ],
          [
           0.1111111111111111,
           "#46039f"
          ],
          [
           0.2222222222222222,
           "#7201a8"
          ],
          [
           0.3333333333333333,
           "#9c179e"
          ],
          [
           0.4444444444444444,
           "#bd3786"
          ],
          [
           0.5555555555555556,
           "#d8576b"
          ],
          [
           0.6666666666666666,
           "#ed7953"
          ],
          [
           0.7777777777777778,
           "#fb9f3a"
          ],
          [
           0.8888888888888888,
           "#fdca26"
          ],
          [
           1,
           "#f0f921"
          ]
         ]
        },
        "template": {
         "data": {
          "bar": [
           {
            "error_x": {
             "color": "#2a3f5f"
            },
            "error_y": {
             "color": "#2a3f5f"
            },
            "marker": {
             "line": {
              "color": "#E5ECF6",
              "width": 0.5
             },
             "pattern": {
              "fillmode": "overlay",
              "size": 10,
              "solidity": 0.2
             }
            },
            "type": "bar"
           }
          ],
          "barpolar": [
           {
            "marker": {
             "line": {
              "color": "#E5ECF6",
              "width": 0.5
             },
             "pattern": {
              "fillmode": "overlay",
              "size": 10,
              "solidity": 0.2
             }
            },
            "type": "barpolar"
           }
          ],
          "carpet": [
           {
            "aaxis": {
             "endlinecolor": "#2a3f5f",
             "gridcolor": "white",
             "linecolor": "white",
             "minorgridcolor": "white",
             "startlinecolor": "#2a3f5f"
            },
            "baxis": {
             "endlinecolor": "#2a3f5f",
             "gridcolor": "white",
             "linecolor": "white",
             "minorgridcolor": "white",
             "startlinecolor": "#2a3f5f"
            },
            "type": "carpet"
           }
          ],
          "choropleth": [
           {
            "colorbar": {
             "outlinewidth": 0,
             "ticks": ""
            },
            "type": "choropleth"
           }
          ],
          "contour": [
           {
            "colorbar": {
             "outlinewidth": 0,
             "ticks": ""
            },
            "colorscale": [
             [
              0,
              "#0d0887"
             ],
             [
              0.1111111111111111,
              "#46039f"
             ],
             [
              0.2222222222222222,
              "#7201a8"
             ],
             [
              0.3333333333333333,
              "#9c179e"
             ],
             [
              0.4444444444444444,
              "#bd3786"
             ],
             [
              0.5555555555555556,
              "#d8576b"
             ],
             [
              0.6666666666666666,
              "#ed7953"
             ],
             [
              0.7777777777777778,
              "#fb9f3a"
             ],
             [
              0.8888888888888888,
              "#fdca26"
             ],
             [
              1,
              "#f0f921"
             ]
            ],
            "type": "contour"
           }
          ],
          "contourcarpet": [
           {
            "colorbar": {
             "outlinewidth": 0,
             "ticks": ""
            },
            "type": "contourcarpet"
           }
          ],
          "heatmap": [
           {
            "colorbar": {
             "outlinewidth": 0,
             "ticks": ""
            },
            "colorscale": [
             [
              0,
              "#0d0887"
             ],
             [
              0.1111111111111111,
              "#46039f"
             ],
             [
              0.2222222222222222,
              "#7201a8"
             ],
             [
              0.3333333333333333,
              "#9c179e"
             ],
             [
              0.4444444444444444,
              "#bd3786"
             ],
             [
              0.5555555555555556,
              "#d8576b"
             ],
             [
              0.6666666666666666,
              "#ed7953"
             ],
             [
              0.7777777777777778,
              "#fb9f3a"
             ],
             [
              0.8888888888888888,
              "#fdca26"
             ],
             [
              1,
              "#f0f921"
             ]
            ],
            "type": "heatmap"
           }
          ],
          "heatmapgl": [
           {
            "colorbar": {
             "outlinewidth": 0,
             "ticks": ""
            },
            "colorscale": [
             [
              0,
              "#0d0887"
             ],
             [
              0.1111111111111111,
              "#46039f"
             ],
             [
              0.2222222222222222,
              "#7201a8"
             ],
             [
              0.3333333333333333,
              "#9c179e"
             ],
             [
              0.4444444444444444,
              "#bd3786"
             ],
             [
              0.5555555555555556,
              "#d8576b"
             ],
             [
              0.6666666666666666,
              "#ed7953"
             ],
             [
              0.7777777777777778,
              "#fb9f3a"
             ],
             [
              0.8888888888888888,
              "#fdca26"
             ],
             [
              1,
              "#f0f921"
             ]
            ],
            "type": "heatmapgl"
           }
          ],
          "histogram": [
           {
            "marker": {
             "pattern": {
              "fillmode": "overlay",
              "size": 10,
              "solidity": 0.2
             }
            },
            "type": "histogram"
           }
          ],
          "histogram2d": [
           {
            "colorbar": {
             "outlinewidth": 0,
             "ticks": ""
            },
            "colorscale": [
             [
              0,
              "#0d0887"
             ],
             [
              0.1111111111111111,
              "#46039f"
             ],
             [
              0.2222222222222222,
              "#7201a8"
             ],
             [
              0.3333333333333333,
              "#9c179e"
             ],
             [
              0.4444444444444444,
              "#bd3786"
             ],
             [
              0.5555555555555556,
              "#d8576b"
             ],
             [
              0.6666666666666666,
              "#ed7953"
             ],
             [
              0.7777777777777778,
              "#fb9f3a"
             ],
             [
              0.8888888888888888,
              "#fdca26"
             ],
             [
              1,
              "#f0f921"
             ]
            ],
            "type": "histogram2d"
           }
          ],
          "histogram2dcontour": [
           {
            "colorbar": {
             "outlinewidth": 0,
             "ticks": ""
            },
            "colorscale": [
             [
              0,
              "#0d0887"
             ],
             [
              0.1111111111111111,
              "#46039f"
             ],
             [
              0.2222222222222222,
              "#7201a8"
             ],
             [
              0.3333333333333333,
              "#9c179e"
             ],
             [
              0.4444444444444444,
              "#bd3786"
             ],
             [
              0.5555555555555556,
              "#d8576b"
             ],
             [
              0.6666666666666666,
              "#ed7953"
             ],
             [
              0.7777777777777778,
              "#fb9f3a"
             ],
             [
              0.8888888888888888,
              "#fdca26"
             ],
             [
              1,
              "#f0f921"
             ]
            ],
            "type": "histogram2dcontour"
           }
          ],
          "mesh3d": [
           {
            "colorbar": {
             "outlinewidth": 0,
             "ticks": ""
            },
            "type": "mesh3d"
           }
          ],
          "parcoords": [
           {
            "line": {
             "colorbar": {
              "outlinewidth": 0,
              "ticks": ""
             }
            },
            "type": "parcoords"
           }
          ],
          "pie": [
           {
            "automargin": true,
            "type": "pie"
           }
          ],
          "scatter": [
           {
            "fillpattern": {
             "fillmode": "overlay",
             "size": 10,
             "solidity": 0.2
            },
            "type": "scatter"
           }
          ],
          "scatter3d": [
           {
            "line": {
             "colorbar": {
              "outlinewidth": 0,
              "ticks": ""
             }
            },
            "marker": {
             "colorbar": {
              "outlinewidth": 0,
              "ticks": ""
             }
            },
            "type": "scatter3d"
           }
          ],
          "scattercarpet": [
           {
            "marker": {
             "colorbar": {
              "outlinewidth": 0,
              "ticks": ""
             }
            },
            "type": "scattercarpet"
           }
          ],
          "scattergeo": [
           {
            "marker": {
             "colorbar": {
              "outlinewidth": 0,
              "ticks": ""
             }
            },
            "type": "scattergeo"
           }
          ],
          "scattergl": [
           {
            "marker": {
             "colorbar": {
              "outlinewidth": 0,
              "ticks": ""
             }
            },
            "type": "scattergl"
           }
          ],
          "scattermapbox": [
           {
            "marker": {
             "colorbar": {
              "outlinewidth": 0,
              "ticks": ""
             }
            },
            "type": "scattermapbox"
           }
          ],
          "scatterpolar": [
           {
            "marker": {
             "colorbar": {
              "outlinewidth": 0,
              "ticks": ""
             }
            },
            "type": "scatterpolar"
           }
          ],
          "scatterpolargl": [
           {
            "marker": {
             "colorbar": {
              "outlinewidth": 0,
              "ticks": ""
             }
            },
            "type": "scatterpolargl"
           }
          ],
          "scatterternary": [
           {
            "marker": {
             "colorbar": {
              "outlinewidth": 0,
              "ticks": ""
             }
            },
            "type": "scatterternary"
           }
          ],
          "surface": [
           {
            "colorbar": {
             "outlinewidth": 0,
             "ticks": ""
            },
            "colorscale": [
             [
              0,
              "#0d0887"
             ],
             [
              0.1111111111111111,
              "#46039f"
             ],
             [
              0.2222222222222222,
              "#7201a8"
             ],
             [
              0.3333333333333333,
              "#9c179e"
             ],
             [
              0.4444444444444444,
              "#bd3786"
             ],
             [
              0.5555555555555556,
              "#d8576b"
             ],
             [
              0.6666666666666666,
              "#ed7953"
             ],
             [
              0.7777777777777778,
              "#fb9f3a"
             ],
             [
              0.8888888888888888,
              "#fdca26"
             ],
             [
              1,
              "#f0f921"
             ]
            ],
            "type": "surface"
           }
          ],
          "table": [
           {
            "cells": {
             "fill": {
              "color": "#EBF0F8"
             },
             "line": {
              "color": "white"
             }
            },
            "header": {
             "fill": {
              "color": "#C8D4E3"
             },
             "line": {
              "color": "white"
             }
            },
            "type": "table"
           }
          ]
         },
         "layout": {
          "annotationdefaults": {
           "arrowcolor": "#2a3f5f",
           "arrowhead": 0,
           "arrowwidth": 1
          },
          "autotypenumbers": "strict",
          "coloraxis": {
           "colorbar": {
            "outlinewidth": 0,
            "ticks": ""
           }
          },
          "colorscale": {
           "diverging": [
            [
             0,
             "#8e0152"
            ],
            [
             0.1,
             "#c51b7d"
            ],
            [
             0.2,
             "#de77ae"
            ],
            [
             0.3,
             "#f1b6da"
            ],
            [
             0.4,
             "#fde0ef"
            ],
            [
             0.5,
             "#f7f7f7"
            ],
            [
             0.6,
             "#e6f5d0"
            ],
            [
             0.7,
             "#b8e186"
            ],
            [
             0.8,
             "#7fbc41"
            ],
            [
             0.9,
             "#4d9221"
            ],
            [
             1,
             "#276419"
            ]
           ],
           "sequential": [
            [
             0,
             "#0d0887"
            ],
            [
             0.1111111111111111,
             "#46039f"
            ],
            [
             0.2222222222222222,
             "#7201a8"
            ],
            [
             0.3333333333333333,
             "#9c179e"
            ],
            [
             0.4444444444444444,
             "#bd3786"
            ],
            [
             0.5555555555555556,
             "#d8576b"
            ],
            [
             0.6666666666666666,
             "#ed7953"
            ],
            [
             0.7777777777777778,
             "#fb9f3a"
            ],
            [
             0.8888888888888888,
             "#fdca26"
            ],
            [
             1,
             "#f0f921"
            ]
           ],
           "sequentialminus": [
            [
             0,
             "#0d0887"
            ],
            [
             0.1111111111111111,
             "#46039f"
            ],
            [
             0.2222222222222222,
             "#7201a8"
            ],
            [
             0.3333333333333333,
             "#9c179e"
            ],
            [
             0.4444444444444444,
             "#bd3786"
            ],
            [
             0.5555555555555556,
             "#d8576b"
            ],
            [
             0.6666666666666666,
             "#ed7953"
            ],
            [
             0.7777777777777778,
             "#fb9f3a"
            ],
            [
             0.8888888888888888,
             "#fdca26"
            ],
            [
             1,
             "#f0f921"
            ]
           ]
          },
          "colorway": [
           "#636efa",
           "#EF553B",
           "#00cc96",
           "#ab63fa",
           "#FFA15A",
           "#19d3f3",
           "#FF6692",
           "#B6E880",
           "#FF97FF",
           "#FECB52"
          ],
          "font": {
           "color": "#2a3f5f"
          },
          "geo": {
           "bgcolor": "white",
           "lakecolor": "white",
           "landcolor": "#E5ECF6",
           "showlakes": true,
           "showland": true,
           "subunitcolor": "white"
          },
          "hoverlabel": {
           "align": "left"
          },
          "hovermode": "closest",
          "mapbox": {
           "style": "light"
          },
          "paper_bgcolor": "white",
          "plot_bgcolor": "#E5ECF6",
          "polar": {
           "angularaxis": {
            "gridcolor": "white",
            "linecolor": "white",
            "ticks": ""
           },
           "bgcolor": "#E5ECF6",
           "radialaxis": {
            "gridcolor": "white",
            "linecolor": "white",
            "ticks": ""
           }
          },
          "scene": {
           "xaxis": {
            "backgroundcolor": "#E5ECF6",
            "gridcolor": "white",
            "gridwidth": 2,
            "linecolor": "white",
            "showbackground": true,
            "ticks": "",
            "zerolinecolor": "white"
           },
           "yaxis": {
            "backgroundcolor": "#E5ECF6",
            "gridcolor": "white",
            "gridwidth": 2,
            "linecolor": "white",
            "showbackground": true,
            "ticks": "",
            "zerolinecolor": "white"
           },
           "zaxis": {
            "backgroundcolor": "#E5ECF6",
            "gridcolor": "white",
            "gridwidth": 2,
            "linecolor": "white",
            "showbackground": true,
            "ticks": "",
            "zerolinecolor": "white"
           }
          },
          "shapedefaults": {
           "line": {
            "color": "#2a3f5f"
           }
          },
          "ternary": {
           "aaxis": {
            "gridcolor": "white",
            "linecolor": "white",
            "ticks": ""
           },
           "baxis": {
            "gridcolor": "white",
            "linecolor": "white",
            "ticks": ""
           },
           "bgcolor": "#E5ECF6",
           "caxis": {
            "gridcolor": "white",
            "linecolor": "white",
            "ticks": ""
           }
          },
          "title": {
           "x": 0.05
          },
          "xaxis": {
           "automargin": true,
           "gridcolor": "white",
           "linecolor": "white",
           "ticks": "",
           "title": {
            "standoff": 15
           },
           "zerolinecolor": "white",
           "zerolinewidth": 2
          },
          "yaxis": {
           "automargin": true,
           "gridcolor": "white",
           "linecolor": "white",
           "ticks": "",
           "title": {
            "standoff": 15
           },
           "zerolinecolor": "white",
           "zerolinewidth": 2
          }
         }
        },
        "title": {
         "text": "Confusion Matrix Predicted with EN model, on EN data"
        },
        "xaxis": {
         "anchor": "y",
         "constrain": "domain",
         "domain": [
          0,
          1
         ],
         "scaleanchor": "y",
         "title": {
          "text": "Predicted"
         }
        },
        "yaxis": {
         "anchor": "x",
         "autorange": "reversed",
         "constrain": "domain",
         "domain": [
          0,
          1
         ],
         "title": {
          "text": "Expected"
         }
        }
       }
      }
     },
     "metadata": {},
     "output_type": "display_data"
    }
   ],
   "source": [
    "language_model = 'EN'\n",
    "language_test = 'EN'\n",
    "\n",
    "# Make predictions on the test data\n",
    "y_pred = model.predict(X_test)\n",
    "\n",
    "# Convert the predictions to the class with the highest probability\n",
    "y_pred_class = np.argmax(y_pred, axis=1)\n",
    "\n",
    "# Convert the true labels to the class format\n",
    "y_test_class = np.argmax(y_test, axis=1)\n",
    "\n",
    "# Compute the confusion matrix\n",
    "conf_mat = confusion_matrix(y_test_class, y_pred_class)\n",
    "\n",
    "# Create a heatmap of the confusion matrix\n",
    "fig = px.imshow(conf_mat, title='Confusion Matrix', text_auto=True)\n",
    "fig.update_layout(title='Confusion Matrix Predicted with {} model, on {} data'.format(language_model, language_test), xaxis_title='Predicted', yaxis_title='Expected')\n",
    "fig.show()"
   ]
  },
  {
   "cell_type": "code",
   "execution_count": 41,
   "metadata": {},
   "outputs": [
    {
     "name": "stdout",
     "output_type": "stream",
     "text": [
      "Accuracy: 59.53%\n",
      "Correct percentage for class 0: 58.10%\n",
      "Correct percentage for class 1: 80.49%\n",
      "Correct percentage for class 2: 34.76%\n",
      "Correct percentage for class 3: 20.47%\n"
     ]
    }
   ],
   "source": [
    "# Calculate what percentage of the predictions are correct\n",
    "accuracy = accuracy_score(y_test_class, y_pred_class)\n",
    "print('Accuracy: {:.2f}%'.format(accuracy * 100))\n",
    "\n",
    "# Calculate for each of the expected classes, what percentage of the predictions are correct\n",
    "correct_percentage_0 = conf_mat[0, 0] / np.sum(conf_mat[0, :]) # 0\n",
    "correct_percentage_1 = conf_mat[1, 1] / np.sum(conf_mat[1, :]) # 1\n",
    "correct_percentage_2 = conf_mat[2, 2] / np.sum(conf_mat[2, :]) # 2\n",
    "correct_percentage_3 = conf_mat[3, 3] / np.sum(conf_mat[3, :]) # 3\n",
    "\n",
    "print('Correct percentage for class 0: {:.2f}%'.format(correct_percentage_0 * 100))\n",
    "print('Correct percentage for class 1: {:.2f}%'.format(correct_percentage_1 * 100))\n",
    "print('Correct percentage for class 2: {:.2f}%'.format(correct_percentage_2 * 100))\n",
    "print('Correct percentage for class 3: {:.2f}%'.format(correct_percentage_3 * 100))"
   ]
  }
 ],
 "metadata": {
  "kernelspec": {
   "display_name": "Python 3",
   "language": "python",
   "name": "python3"
  },
  "language_info": {
   "codemirror_mode": {
    "name": "ipython",
    "version": 3
   },
   "file_extension": ".py",
   "mimetype": "text/x-python",
   "name": "python",
   "nbconvert_exporter": "python",
   "pygments_lexer": "ipython3",
   "version": "3.10.9"
  },
  "orig_nbformat": 4,
  "vscode": {
   "interpreter": {
    "hash": "410621c85258efa0ea47ad915638abc1a4a3304f33944a818dfb0fc7cd918640"
   }
  }
 },
 "nbformat": 4,
 "nbformat_minor": 2
}
