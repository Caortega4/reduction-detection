{
 "cells": [
  {
   "cell_type": "code",
   "execution_count": 1,
   "metadata": {},
   "outputs": [],
   "source": [
    "import soundfile as sf\n",
    "import librosa\n",
    "import os"
   ]
  },
  {
   "cell_type": "code",
   "execution_count": 4,
   "metadata": {},
   "outputs": [],
   "source": [
    "# Get the full paths for all the .wav files\n",
    "def get_wav_file_paths(folder_path):\n",
    "    wav_file_paths = []\n",
    "    for root, dirs, files in os.walk(folder_path):\n",
    "        for file in files:\n",
    "            if file.endswith(\".wav\"):\n",
    "                wav_file_paths.append(os.path.join(root, file))\n",
    "    return wav_file_paths"
   ]
  },
  {
   "cell_type": "code",
   "execution_count": 5,
   "metadata": {},
   "outputs": [
    {
     "name": "stdout",
     "output_type": "stream",
     "text": [
      "C:\\Research\\corpus\\Spanish\\ES_001.wav\n",
      "C:\\Research\\corpus\\Spanish\\ES_003.wav\n",
      "C:\\Research\\corpus\\Spanish\\ES_012.wav\n",
      "C:\\Research\\corpus\\Spanish\\ES_022.wav\n"
     ]
    }
   ],
   "source": [
    "folder_path = \"C:\\\\Research\\\\corpus\\\\Spanish\"\n",
    "wav_file_paths = get_wav_file_paths(folder_path)\n",
    "\n",
    "for wav_file_path in wav_file_paths:\n",
    "    print(wav_file_path)"
   ]
  },
  {
   "cell_type": "code",
   "execution_count": 2,
   "metadata": {},
   "outputs": [
    {
     "name": "stdout",
     "output_type": "stream",
     "text": [
      "Downsampling...\n"
     ]
    }
   ],
   "source": [
    "print(\"Downsampling...\")\n",
    "y, s = librosa.load(\"C:\\Research\\\\recordings-reduction\\EN_006.wav\", sr=16000, mono=False) # 16kHz\n",
    "y = y.transpose()"
   ]
  },
  {
   "cell_type": "code",
   "execution_count": 3,
   "metadata": {},
   "outputs": [
    {
     "name": "stdout",
     "output_type": "stream",
     "text": [
      "Writing downsampled audio\n"
     ]
    }
   ],
   "source": [
    "print(\"Writing downsampled audio\")\n",
    "\n",
    "sf.write(\"stereo_filfe.wav\", y, samplerate=16000)"
   ]
  }
 ],
 "metadata": {
  "kernelspec": {
   "display_name": "Python 3.10.8 64-bit (microsoft store)",
   "language": "python",
   "name": "python3"
  },
  "language_info": {
   "codemirror_mode": {
    "name": "ipython",
    "version": 3
   },
   "file_extension": ".py",
   "mimetype": "text/x-python",
   "name": "python",
   "nbconvert_exporter": "python",
   "pygments_lexer": "ipython3",
   "version": "3.10.9"
  },
  "orig_nbformat": 4,
  "vscode": {
   "interpreter": {
    "hash": "410621c85258efa0ea47ad915638abc1a4a3304f33944a818dfb0fc7cd918640"
   }
  }
 },
 "nbformat": 4,
 "nbformat_minor": 2
}
