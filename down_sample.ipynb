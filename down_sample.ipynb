{
 "cells": [
  {
   "cell_type": "code",
   "execution_count": 8,
   "metadata": {},
   "outputs": [],
   "source": [
    "import soundfile as sf\n",
    "import librosa\n",
    "import os"
   ]
  },
  {
   "cell_type": "code",
   "execution_count": 2,
   "metadata": {},
   "outputs": [],
   "source": [
    "# Get the full paths for all the .wav files\n",
    "def get_wav_file_paths(folder_path):\n",
    "    wav_file_paths = []\n",
    "    for root, dirs, files in os.walk(folder_path):\n",
    "        for file in files:\n",
    "            if file.endswith(\".wav\"):\n",
    "                wav_file_paths.append(os.path.join(root, file))\n",
    "    return wav_file_paths"
   ]
  },
  {
   "cell_type": "code",
   "execution_count": 13,
   "metadata": {},
   "outputs": [
    {
     "name": "stdout",
     "output_type": "stream",
     "text": [
      "Downsampling C:\\Users\\carlo\\Research\\AnnotatedRecordings\\Annotated Recordings\\EN\\EN_006.wav\n",
      "Writing C:\\Users\\carlo\\Research\\DownsampledRecordings\\EN\\EN_006-downsampled.wav\n",
      "Downsampling C:\\Users\\carlo\\Research\\AnnotatedRecordings\\Annotated Recordings\\EN\\EN_007.wav\n",
      "Writing C:\\Users\\carlo\\Research\\DownsampledRecordings\\EN\\EN_007-downsampled.wav\n",
      "Downsampling C:\\Users\\carlo\\Research\\AnnotatedRecordings\\Annotated Recordings\\EN\\EN_013.wav\n",
      "Writing C:\\Users\\carlo\\Research\\DownsampledRecordings\\EN\\EN_013-downsampled.wav\n"
     ]
    }
   ],
   "source": [
    "folder_path = \"C:\\\\Users\\\\carlo\\\\Research\\\\AnnotatedRecordings\\\\Annotated Recordings\\\\EN\"\n",
    "output_dir = \"C:\\\\Users\\\\carlo\\\\Research\\\\DownsampledRecordings\\\\EN\"\n",
    "wav_file_paths = get_wav_file_paths(folder_path)\n",
    "\n",
    "for wav_file_path in wav_file_paths:\n",
    "    print(\"Downsampling {}\".format(wav_file_path))\n",
    "    y, s = librosa.load(wav_file_path, sr=16000, mono=False) # 16kHz\n",
    "    y = y.transpose()\n",
    "    # Use the 'split' function to split the path into the directory, file name, and extension\n",
    "    directory, file_name_ext = os.path.split(wav_file_path)\n",
    "    file_name, file_ext = os.path.splitext(file_name_ext)\n",
    "\n",
    "    # Insert the string \"downsampled\" before the extension\n",
    "    new_file_name = f'{file_name}-downsampled{file_ext}'\n",
    "\n",
    "    # Use the 'join' function to combine the directory and the new file name\n",
    "    output_path = os.path.join(output_dir, new_file_name)\n",
    "    print(\"Writing {}\".format(output_path))\n",
    "    sf.write(output_path, y, samplerate=16000)\n"
   ]
  }
 ],
 "metadata": {
  "kernelspec": {
   "display_name": "Python 3",
   "language": "python",
   "name": "python3"
  },
  "language_info": {
   "codemirror_mode": {
    "name": "ipython",
    "version": 3
   },
   "file_extension": ".py",
   "mimetype": "text/x-python",
   "name": "python",
   "nbconvert_exporter": "python",
   "pygments_lexer": "ipython3",
   "version": "3.9.8 (tags/v3.9.8:bb3fdcf, Nov  5 2021, 20:48:33) [MSC v.1929 64 bit (AMD64)]"
  },
  "orig_nbformat": 4,
  "vscode": {
   "interpreter": {
    "hash": "81794d4967e6c3204c66dcd87b604927b115b27c00565d3d43f05ba2f3a2cb0d"
   }
  }
 },
 "nbformat": 4,
 "nbformat_minor": 2
}
