{
 "cells": [
  {
   "cell_type": "code",
   "execution_count": null,
   "metadata": {},
   "outputs": [],
   "source": [
    "import soundfile as sf\n",
    "import librosa\n",
    "import os"
   ]
  },
  {
   "cell_type": "code",
   "execution_count": null,
   "metadata": {},
   "outputs": [],
   "source": [
    "# Get the full paths for all the .wav files\n",
    "def get_wav_file_paths(folder_path):\n",
    "    wav_file_paths = []\n",
    "    for root, dirs, files in os.walk(folder_path):\n",
    "        for file in files:\n",
    "            if file.endswith(\".wav\"):\n",
    "                wav_file_paths.append(os.path.join(root, file))\n",
    "    return wav_file_paths"
   ]
  },
  {
   "cell_type": "code",
   "execution_count": null,
   "metadata": {},
   "outputs": [],
   "source": [
    "folder_path = \"C:\\Research\\spectral_tilt\\\\test_recordings\"\n",
    "output_dir = \"C:\\Research\\spectral_tilt\\\\test_recordings\\downsampled\"\n",
    "wav_file_paths = get_wav_file_paths(folder_path)\n",
    "\n",
    "for wav_file_path in wav_file_paths:\n",
    "    print(\"Downsampling {}\".format(wav_file_path))\n",
    "    y, s = librosa.load(wav_file_path, sr=16000, mono=False) # 16kHz\n",
    "    y = y.transpose()\n",
    "    # Use the 'split' function to split the path into the directory, file name, and extension\n",
    "    directory, file_name_ext = os.path.split(wav_file_path)\n",
    "    file_name, file_ext = os.path.splitext(file_name_ext)\n",
    "\n",
    "    # Insert the string \"downsampled\" before the extension\n",
    "    new_file_name = f'{file_name}-downsampled{file_ext}'\n",
    "\n",
    "    # Use the 'join' function to combine the directory and the new file name\n",
    "    output_path = os.path.join(output_dir, new_file_name)\n",
    "    print(\"Writing {}\".format(output_path))\n",
    "    sf.write(output_path, y, samplerate=16000)\n"
   ]
  },
  {
   "cell_type": "code",
   "execution_count": null,
   "metadata": {},
   "outputs": [],
   "source": [
    "folder_path = \"C:\\Research\\spectral_tilt\\\\test_recordings\"\n",
    "output_dir = \"C:\\Research\\spectral_tilt\\\\test_recordings\\downsampled\"\n",
    "wav_file_paths = get_wav_file_paths(folder_path)\n",
    "\n",
    "# for wav_file_path in wav_file_paths:\n",
    "#     # Use the 'split' function to split the path into the directory, file name, and extension\n",
    "#     directory, file_name_ext = os.path.split(wav_file_path)\n",
    "#     file_name, file_ext = os.path.splitext(file_name_ext)\n",
    "#     m4a_file = '{}\\\\{}.m4a'.format(folder_path,file_name)\n",
    "#     print(m4a_file)\n",
    "    # wav_filename = \"{}\\\\{}.wav\".format(output_dir, file_name)\n",
    "    # track = AudioSegment.from_file(m4a_file,  format= 'm4a')\n",
    "    # print(\"Writing {}\".format(wav_filename))\n",
    "    # file_handle = track.export(wav_filename, format='wav')"
   ]
  },
  {
   "cell_type": "code",
   "execution_count": null,
   "metadata": {},
   "outputs": [],
   "source": [
    "m4a_file = \"C:\\Research\\spectral_tilt\\\\test_recordings\\\\aah.m4a\"\n",
    "wav_filename = \"C:\\Research\\spectral_tilt\\\\test_recordings\\downsampled\\\\aah-downsampled.wav\"\n",
    "\n",
    "track = AudioSegment.from_file(m4a_file,  format= 'm4a')\n",
    "print(\"Writing {}\".format(wav_filename))\n",
    "file_handle = track.export(wav_filename, format='wav')"
   ]
  }
 ],
 "metadata": {
  "kernelspec": {
   "display_name": "Python 3",
   "language": "python",
   "name": "python3"
  },
  "language_info": {
   "codemirror_mode": {
    "name": "ipython",
    "version": 3
   },
   "file_extension": ".py",
   "mimetype": "text/x-python",
   "name": "python",
   "nbconvert_exporter": "python",
   "pygments_lexer": "ipython3",
   "version": "3.10.9 (tags/v3.10.9:1dd9be6, Dec  6 2022, 20:01:21) [MSC v.1934 64 bit (AMD64)]"
  },
  "orig_nbformat": 4,
  "vscode": {
   "interpreter": {
    "hash": "410621c85258efa0ea47ad915638abc1a4a3304f33944a818dfb0fc7cd918640"
   }
  }
 },
 "nbformat": 4,
 "nbformat_minor": 2
}
